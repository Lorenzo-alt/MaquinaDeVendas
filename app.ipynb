{
  "cells": [
    {
      "cell_type": "code",
      "source": [
        "pip install colorama"
      ],
      "metadata": {
        "colab": {
          "base_uri": "https://localhost:8080/"
        },
        "id": "w7zYDyKmiAzA",
        "outputId": "ff513cf0-de5f-447b-b721-0f60cb1523b3"
      },
      "execution_count": 1,
      "outputs": [
        {
          "output_type": "stream",
          "name": "stdout",
          "text": [
            "Looking in indexes: https://pypi.org/simple, https://us-python.pkg.dev/colab-wheels/public/simple/\n",
            "Collecting colorama\n",
            "  Downloading colorama-0.4.5-py2.py3-none-any.whl (16 kB)\n",
            "Installing collected packages: colorama\n",
            "Successfully installed colorama-0.4.5\n"
          ]
        }
      ]
    },
    {
      "cell_type": "code",
      "execution_count": 5,
      "metadata": {
        "id": "ltqrQTtth1lr"
      },
      "outputs": [],
      "source": [
        "from colorama import Fore , Style, init\n",
        "from dados import doces, respostas\n",
        "from time import sleep"
      ]
    },
    {
      "cell_type": "code",
      "execution_count": 6,
      "metadata": {
        "id": "Y8H-G_fLh1lr"
      },
      "outputs": [],
      "source": [
        "valorUsuario = 0\n",
        "continuar = True\n",
        "count = 0\n",
        "init()\n",
        "def menu_inicial():\n",
        "    print(Fore.CYAN + '=-'*26 + '\\n{:^52}\\n'.format('Maquina de Venda') + '=-'*26)\n",
        "    for d in doces:\n",
        "        if valorUsuario < d['valor']:\n",
        "            print(Fore.RED + f'{d[\"nome\"]}\\t\\t\\t\\t{\"R${:,.2f}\".format(float(d[\"valor\"]))}')\n",
        "        else:\n",
        "            print(Fore.GREEN + f'{d[\"nome\"]}\\t\\t\\t\\t{\"R${:,.2f}\".format(float(d[\"valor\"]))}')\n",
        "    print(Fore.YELLOW +'{:^52}'.format('Valor do usuario: {:,.2f}'.format(float(valorUsuario))))\n",
        "    print(Fore.CYAN + '=-'*26 + '\\n{:^52}\\n'.format('Comandos') + '=-'*26)\n",
        "    print(Fore.MAGENTA + '{Inserir} e o tipo de moeda ou nota:\\n1 - Moeda de 1 real\\n2 - Nota de 2 reais\\t3 - Nota de 5 reais')\n",
        "    print('{Comprar} e o tipo de doce disponivel\\n1 - Doce A\\t2 - Doce B\\t3 - Doce C')\n",
        "    print('{Sair}' + Style.RESET_ALL)"
      ]
    },
    {
      "cell_type": "code",
      "execution_count": 7,
      "metadata": {
        "id": "FvVTvzQih1ls"
      },
      "outputs": [],
      "source": [
        "def tres_pontos():\n",
        "    for x in range(0,3):\n",
        "        print(Fore.CYAN + '.' + Style.RESET_ALL)\n",
        "        sleep(1)"
      ]
    },
    {
      "cell_type": "code",
      "execution_count": 8,
      "metadata": {
        "id": "MrP4JRd2h1ls"
      },
      "outputs": [],
      "source": [
        "def inserir(resp):\n",
        "    adicionar = 0\n",
        "    if '1' in resp:\n",
        "        adicionar += 1\n",
        "        print(Fore.GREEN + 'Inserido 1 real em moeda com sucesso!!' + Style.RESET_ALL)\n",
        "    elif '2' in resp:\n",
        "        adicionar+=2\n",
        "        print(Fore.GREEN + 'Inserido 2 reais com sucesso!!' + Style.RESET_ALL)\n",
        "    elif '3' in resp:\n",
        "        adicionar+=5\n",
        "        print(Fore.GREEN + 'Inserido 5 reais com sucesso!!' + Style.RESET_ALL)\n",
        "    return adicionar"
      ]
    },
    {
      "cell_type": "code",
      "execution_count": 9,
      "metadata": {
        "id": "30M9QGwmh1ls"
      },
      "outputs": [],
      "source": [
        "def comprar(valorUsuario, resp):\n",
        "    if 'a' == resp[-1] or '1' in resp:\n",
        "        for d in doces:\n",
        "            if d['nome'] == 'Doce A' and d['valor'] > valorUsuario:\n",
        "                print(Fore.YELLOW + 'Você não tem valor o suficiente, insira mais', d['valor'] - valorUsuario, 'real/reais' + Style.RESET_ALL)\n",
        "                return False\n",
        "            elif d['nome'] == 'Doce A' and d['valor'] <= valorUsuario:\n",
        "                tres_pontos()\n",
        "                print(Fore.GREEN + '=-'*26 + '\\n{:^52}\\n'.format('Sua compra') + '=-'*26)\n",
        "                if valorUsuario <= 10:\n",
        "                    print(f'{d[\"nome\"]}\\t\\t\\t\\t{\"Seu troco: R${:,.2f}\".format(float(valorUsuario - d[\"valor\"]))}' + Style.RESET_ALL)\n",
        "                    return True\n",
        "                if valorUsuario > 10:\n",
        "                    print(f'{d[\"nome\"]}\\t\\t\\t\\t{\"Seu troco: R${:,.2f}\".format(float(10 - d[\"valor\"]))}' + Style.RESET_ALL)\n",
        "                    return True\n",
        "    elif 'b' == resp[-1] or '2' in resp:\n",
        "        for d in doces:\n",
        "            if d['nome'] == 'Doce B' and d['valor'] > valorUsuario:\n",
        "                print(Fore.YELLOW + 'Você não tem valor o suficiente, insira mais', d['valor'] - valorUsuario, 'real/reais' + Style.RESET_ALL)\n",
        "                return False\n",
        "            elif d['nome'] == 'Doce B' and d['valor'] <= valorUsuario:\n",
        "                tres_pontos()\n",
        "                print(Fore.GREEN + '=-'*26 + '\\n{:^52}\\n'.format('Sua compra') + '=-'*26)\n",
        "                if valorUsuario <= 10:\n",
        "                    print(f'{d[\"nome\"]}\\t\\t\\t\\t{\"Seu troco: R${:,.2f}\".format(float(valorUsuario - d[\"valor\"]))}' + Style.RESET_ALL)\n",
        "                    return True\n",
        "                if valorUsuario > 10:\n",
        "                    print(f'{d[\"nome\"]}\\t\\t\\t\\t{\"Seu troco: R${:,.2f}\".format(float(10 - d[\"valor\"]))}' + Style.RESET_ALL)\n",
        "                    return True\n",
        "    elif 'c' == resp[-1] or '3' in resp:\n",
        "        for d in doces:\n",
        "            if d['nome'] == 'Doce C' and d['valor'] > valorUsuario:\n",
        "                print(Fore.YELLOW + 'Você não tem valor o suficiente, insira mais', d['valor'] - valorUsuario, 'real/reais' + Style.RESET_ALL)\n",
        "                return False\n",
        "            elif d['nome'] == 'Doce C' and d['valor'] <= valorUsuario:\n",
        "                tres_pontos()\n",
        "                print(Fore.GREEN + '=-'*26 + '\\n{:^52}\\n'.format('Sua compra') + '=-'*26)\n",
        "                if valorUsuario <= 10:\n",
        "                    print(f'{d[\"nome\"]}\\t\\t\\t\\t{\"Seu troco: R${:,.2f}\".format(float(valorUsuario - d[\"valor\"]))}' + Style.RESET_ALL)\n",
        "                    return True\n",
        "                if valorUsuario > 10:\n",
        "                    print(f'{d[\"nome\"]}\\t\\t\\t\\t{\"Seu troco: R${:,.2f}\".format(float(10 - d[\"valor\"]))}' + Style.RESET_ALL)\n",
        "                    return True"
      ]
    },
    {
      "cell_type": "code",
      "execution_count": 10,
      "metadata": {
        "colab": {
          "base_uri": "https://localhost:8080/"
        },
        "id": "KpRjNS7sh1lt",
        "outputId": "93d480bb-75a6-41c2-ff98-e935a04ba669"
      },
      "outputs": [
        {
          "name": "stdout",
          "output_type": "stream",
          "text": [
            "=-=-=-=-=-=-=-=-=-=-=-=-=-=-=-=-=-=-=-=-=-=-=-=-=-=-\n",
            "                  Maquina de Venda                  \n",
            "=-=-=-=-=-=-=-=-=-=-=-=-=-=-=-=-=-=-=-=-=-=-=-=-=-=-\n",
            "Doce A\t\t\t\tR$6.00\n",
            "Doce B\t\t\t\tR$7.00\n",
            "Doce C\t\t\t\tR$8.00\n",
            "               Valor do usuario: 0.00               \n",
            "=-=-=-=-=-=-=-=-=-=-=-=-=-=-=-=-=-=-=-=-=-=-=-=-=-=-\n",
            "                      Comandos                      \n",
            "=-=-=-=-=-=-=-=-=-=-=-=-=-=-=-=-=-=-=-=-=-=-=-=-=-=-\n",
            "{Inserir} e o tipo de moeda ou nota:\n",
            "1 - Moeda de 1 real\n",
            "2 - Nota de 2 reais\t3 - Nota de 5 reais\n",
            "{Comprar} e o tipo de doce disponivel\n",
            "1 - Doce A\t2 - Doce B\t3 - Doce C\n",
            "{Sair}\n",
            "Digite:s\n"
          ]
        }
      ],
      "source": [
        "menu_inicial()\n",
        "while continuar is True:\n",
        "    resp = input('Digite:').lower().strip()\n",
        "    count = 0\n",
        "    for r in respostas:\n",
        "        if resp in r['resps']:\n",
        "            if r['nome'] == 'Inserir':\n",
        "                valorUsuario += inserir(resp)\n",
        "                tres_pontos()\n",
        "                menu_inicial()\n",
        "            elif r['nome'] == 'Sair':\n",
        "                continuar = False\n",
        "            elif r['nome'] == 'Comprar':\n",
        "                if comprar(valorUsuario=valorUsuario, resp=resp):\n",
        "                    continuar = False\n",
        "        if resp not in r['resps']:\n",
        "            count += 1\n",
        "            if count == 3:\n",
        "                print(Fore.RED + '...Comando incorreto, digite {Inserir 1,2 ou 3} ou {Comprar 1,2 ou 3}' + Style.RESET_ALL)\n",
        "                sleep(2)"
      ]
    },
    {
      "cell_type": "code",
      "source": [],
      "metadata": {
        "id": "ZZn1vWweiRqj"
      },
      "execution_count": null,
      "outputs": []
    }
  ],
  "metadata": {
    "kernelspec": {
      "display_name": "Python 3.10.4 ('venv': venv)",
      "language": "python",
      "name": "python3"
    },
    "language_info": {
      "codemirror_mode": {
        "name": "ipython",
        "version": 3
      },
      "file_extension": ".py",
      "mimetype": "text/x-python",
      "name": "python",
      "nbconvert_exporter": "python",
      "pygments_lexer": "ipython3",
      "version": "3.10.4"
    },
    "vscode": {
      "interpreter": {
        "hash": "45d0c1e970fa72b12f36e286b6c35cfb1c52be7d6fa7d60485d6c2fb1b13401d"
      }
    },
    "colab": {
      "provenance": []
    }
  },
  "nbformat": 4,
  "nbformat_minor": 0
}